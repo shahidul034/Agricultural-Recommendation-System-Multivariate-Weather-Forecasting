{
 "cells": [
  {
   "cell_type": "code",
   "execution_count": 1,
   "metadata": {},
   "outputs": [],
   "source": [
    "# For data processing\n",
    "from tensorflow.keras.layers import Dense, LSTM, Dropout, PReLU, RepeatVector, TimeDistributed, Attention\n",
    "import gc\n",
    "import os\n",
    "from tensorflow.keras.utils import to_categorical, plot_model\n",
    "from tensorflow.keras.callbacks import EarlyStopping, Callback\n",
    "from keras.layers.merge import concatenate\n",
    "from tensorflow.keras.layers import InputSpec\n",
    "from tensorflow.keras.layers import SimpleRNN as Recurrent\n",
    "from tensorflow.keras import regularizers, constraints, initializers, activations\n",
    "from tensorflow.keras.models import Sequential\n",
    "from tensorflow.keras.layers import *\n",
    "from keras import backend\n",
    "from tensorflow.keras import backend as K\n",
    "import tensorflow as tf\n",
    "from tensorflow import keras\n",
    "from sklearn.metrics import mean_squared_error\n",
    "from scipy.stats import hmean\n",
    "import json\n",
    "from os import path\n",
    "import numpy as np\n",
    "import math\n",
    "from math import sqrt\n",
    "\n",
    "# For data processing and manipulation\n",
    "import pandas as pd\n",
    "import csv\n",
    "\n",
    "# For date calculations\n",
    "import datetime\n",
    "import time\n",
    "\n",
    "# For ploting data\n",
    "import IPython\n",
    "import IPython.display\n",
    "\n",
    "import itertools\n",
    "from itertools import cycle\n",
    "import matplotlib as mpl\n",
    "import matplotlib.pyplot as plt\n",
    "import seaborn as sns\n",
    "%matplotlib inline\n",
    "\n",
    "# For checking path\n",
    "\n",
    "\n",
    "#tensorflow libs\n",
    "\n",
    "#from keras.layers.recurrent import Recurrent, _time_distributed_dense\n",
    "#from tensorflow.compat.v1.keras.layers import RNN\n",
    "\n",
    "\n",
    "tf.get_logger().setLevel('ERROR')\n",
    "mpl.rcParams['figure.figsize'] = (8, 6)\n",
    "mpl.rcParams['axes.grid'] = False\n"
   ]
  },
  {
   "cell_type": "code",
   "execution_count": 2,
   "metadata": {},
   "outputs": [],
   "source": [
    "ROOTPATH = r\"C:\\Users\\Administrator\\Desktop\\my research(Shakib)\\BD_Weather\"\n",
    "MODEL_PATH = ROOTPATH+\"/models\"\n",
    "HISTORY_PATH = ROOTPATH+\"/histories\""
   ]
  },
  {
   "cell_type": "code",
   "execution_count": 3,
   "metadata": {},
   "outputs": [
    {
     "name": "stderr",
     "output_type": "stream",
     "text": [
      "C:\\ProgramData\\Anaconda3\\lib\\site-packages\\IPython\\core\\interactiveshell.py:3058: DtypeWarning: Columns (6,7) have mixed types. Specify dtype option on import or set low_memory=False.\n",
      "  interactivity=interactivity, compiler=compiler, result=result)\n"
     ]
    },
    {
     "data": {
      "text/html": [
       "<div>\n",
       "<style scoped>\n",
       "    .dataframe tbody tr th:only-of-type {\n",
       "        vertical-align: middle;\n",
       "    }\n",
       "\n",
       "    .dataframe tbody tr th {\n",
       "        vertical-align: top;\n",
       "    }\n",
       "\n",
       "    .dataframe thead th {\n",
       "        text-align: right;\n",
       "    }\n",
       "</style>\n",
       "<table border=\"1\" class=\"dataframe\">\n",
       "  <thead>\n",
       "    <tr style=\"text-align: right;\">\n",
       "      <th></th>\n",
       "      <th>Unnamed: 0</th>\n",
       "      <th>station_name</th>\n",
       "      <th>year</th>\n",
       "      <th>month</th>\n",
       "      <th>day</th>\n",
       "      <th>rain_fall</th>\n",
       "      <th>sunshine</th>\n",
       "      <th>humidity</th>\n",
       "      <th>temperature</th>\n",
       "      <th>wind_speed</th>\n",
       "      <th>wind_direction</th>\n",
       "      <th>date</th>\n",
       "    </tr>\n",
       "  </thead>\n",
       "  <tbody>\n",
       "    <tr>\n",
       "      <td>0</td>\n",
       "      <td>0</td>\n",
       "      <td>dhaka</td>\n",
       "      <td>1977</td>\n",
       "      <td>1</td>\n",
       "      <td>1</td>\n",
       "      <td>0.0</td>\n",
       "      <td>10</td>\n",
       "      <td>59</td>\n",
       "      <td>17.3</td>\n",
       "      <td>3.5</td>\n",
       "      <td>NW</td>\n",
       "      <td>1977-01-01</td>\n",
       "    </tr>\n",
       "    <tr>\n",
       "      <td>1</td>\n",
       "      <td>1</td>\n",
       "      <td>dhaka</td>\n",
       "      <td>1977</td>\n",
       "      <td>1</td>\n",
       "      <td>2</td>\n",
       "      <td>0.0</td>\n",
       "      <td>10.1</td>\n",
       "      <td>62</td>\n",
       "      <td>17.3</td>\n",
       "      <td>4.0</td>\n",
       "      <td>NW</td>\n",
       "      <td>1977-01-02</td>\n",
       "    </tr>\n",
       "    <tr>\n",
       "      <td>2</td>\n",
       "      <td>2</td>\n",
       "      <td>dhaka</td>\n",
       "      <td>1977</td>\n",
       "      <td>1</td>\n",
       "      <td>3</td>\n",
       "      <td>0.0</td>\n",
       "      <td>9.9</td>\n",
       "      <td>67</td>\n",
       "      <td>17.5</td>\n",
       "      <td>3.2</td>\n",
       "      <td>NW</td>\n",
       "      <td>1977-01-03</td>\n",
       "    </tr>\n",
       "    <tr>\n",
       "      <td>3</td>\n",
       "      <td>3</td>\n",
       "      <td>dhaka</td>\n",
       "      <td>1977</td>\n",
       "      <td>1</td>\n",
       "      <td>4</td>\n",
       "      <td>0.0</td>\n",
       "      <td>10</td>\n",
       "      <td>68</td>\n",
       "      <td>17.5</td>\n",
       "      <td>2.0</td>\n",
       "      <td>NW</td>\n",
       "      <td>1977-01-04</td>\n",
       "    </tr>\n",
       "    <tr>\n",
       "      <td>4</td>\n",
       "      <td>4</td>\n",
       "      <td>dhaka</td>\n",
       "      <td>1977</td>\n",
       "      <td>1</td>\n",
       "      <td>5</td>\n",
       "      <td>0.0</td>\n",
       "      <td>9.5</td>\n",
       "      <td>69</td>\n",
       "      <td>16.5</td>\n",
       "      <td>2.0</td>\n",
       "      <td>NW</td>\n",
       "      <td>1977-01-05</td>\n",
       "    </tr>\n",
       "  </tbody>\n",
       "</table>\n",
       "</div>"
      ],
      "text/plain": [
       "   Unnamed: 0 station_name  year  month  day  rain_fall sunshine humidity  \\\n",
       "0           0        dhaka  1977      1    1        0.0       10       59   \n",
       "1           1        dhaka  1977      1    2        0.0     10.1       62   \n",
       "2           2        dhaka  1977      1    3        0.0      9.9       67   \n",
       "3           3        dhaka  1977      1    4        0.0       10       68   \n",
       "4           4        dhaka  1977      1    5        0.0      9.5       69   \n",
       "\n",
       "   temperature  wind_speed wind_direction       date  \n",
       "0         17.3         3.5             NW 1977-01-01  \n",
       "1         17.3         4.0             NW 1977-01-02  \n",
       "2         17.5         3.2             NW 1977-01-03  \n",
       "3         17.5         2.0             NW 1977-01-04  \n",
       "4         16.5         2.0             NW 1977-01-05  "
      ]
     },
     "execution_count": 3,
     "metadata": {},
     "output_type": "execute_result"
    }
   ],
   "source": [
    "dataset = pd.read_csv('datasets/all_the_data_V3.csv')\n",
    "dataset['date'] = pd.to_datetime(dict(year=dataset.year, month=dataset.month, day=dataset.day))\n",
    "dataset.head()\n"
   ]
  },
  {
   "cell_type": "code",
   "execution_count": 4,
   "metadata": {},
   "outputs": [
    {
     "name": "stdout",
     "output_type": "stream",
     "text": [
      "Index(['Unnamed: 0', 'station_name', 'year', 'month', 'day', 'rain_fall',\n",
      "       'sunshine', 'humidity', 'temperature', 'wind_speed', 'wind_direction',\n",
      "       'date'],\n",
      "      dtype='object')\n",
      "Unnamed: 0\n",
      "{<class 'int'>}\n",
      "station_name\n",
      "{<class 'str'>}\n",
      "year\n",
      "{<class 'int'>}\n",
      "month\n",
      "{<class 'int'>}\n",
      "day\n",
      "{<class 'int'>}\n",
      "rain_fall\n",
      "{<class 'float'>}\n",
      "sunshine\n",
      "{<class 'float'>, <class 'str'>}\n",
      "humidity\n",
      "{<class 'float'>, <class 'str'>, <class 'int'>}\n",
      "temperature\n",
      "{<class 'float'>}\n",
      "wind_speed\n",
      "{<class 'float'>}\n",
      "wind_direction\n",
      "{<class 'str'>}\n",
      "date\n",
      "{<class 'pandas._libs.tslibs.timestamps.Timestamp'>}\n"
     ]
    }
   ],
   "source": [
    "print(dataset.columns)\n",
    "for x in dataset.columns:\n",
    "    print(x)\n",
    "    types = set([type(y) for y in dataset[x]])\n",
    "    print(types)"
   ]
  },
  {
   "cell_type": "code",
   "execution_count": 5,
   "metadata": {},
   "outputs": [],
   "source": [
    "sum_columns = {}\n",
    "cnt_columns = {}\n",
    "\n",
    "sum_columns[\"humidity\"] = 0\n",
    "sum_columns[\"sunshine\"] = 0\n",
    "cnt_columns[\"humidity\"] = 0\n",
    "cnt_columns[\"sunshine\"] = 0\n",
    "\n",
    "def convert_to_float(x , key):\n",
    "    x = str(x)\n",
    "    x = x.strip()\n",
    "    \n",
    "    x = x.strip()\n",
    "    if(len(x)==0):\n",
    "        if(cnt_columns[key]!=0):\n",
    "            return float(sum_columns[key]/cnt_columns[key])\n",
    "        else:\n",
    "            return 0.0\n",
    "    else:\n",
    "        cnt_columns[key]+=1\n",
    "        sum_columns[key]+=float(x)\n",
    "        return float(x)\n",
    "    \n",
    "data_fields = {\n",
    "    'humidity': lambda x: convert_to_float(x , \"humidity\"),\n",
    "    'sunshine': lambda x: convert_to_float(x , \"sunshine\"),\n",
    "}\n",
    "for x in data_fields.keys():\n",
    "    dataset[x] = dataset[x].apply(data_fields[x])\n"
   ]
  },
  {
   "cell_type": "code",
   "execution_count": 6,
   "metadata": {},
   "outputs": [
    {
     "name": "stdout",
     "output_type": "stream",
     "text": [
      "Index(['Unnamed: 0', 'station_name', 'year', 'month', 'day', 'rain_fall',\n",
      "       'sunshine', 'humidity', 'temperature', 'wind_speed', 'wind_direction',\n",
      "       'date'],\n",
      "      dtype='object')\n",
      "Unnamed: 0\n",
      "{<class 'int'>}\n",
      "station_name\n",
      "{<class 'str'>}\n",
      "year\n",
      "{<class 'int'>}\n",
      "month\n",
      "{<class 'int'>}\n",
      "day\n",
      "{<class 'int'>}\n",
      "rain_fall\n",
      "{<class 'float'>}\n",
      "sunshine\n",
      "{<class 'float'>}\n",
      "humidity\n",
      "{<class 'float'>}\n",
      "temperature\n",
      "{<class 'float'>}\n",
      "wind_speed\n",
      "{<class 'float'>}\n",
      "wind_direction\n",
      "{<class 'str'>}\n",
      "date\n",
      "{<class 'pandas._libs.tslibs.timestamps.Timestamp'>}\n"
     ]
    }
   ],
   "source": [
    "print(dataset.columns)\n",
    "for x in dataset.columns:\n",
    "    print(x)\n",
    "    types = set([type(y) for y in dataset[x]])\n",
    "    print(types)\n"
   ]
  },
  {
   "cell_type": "code",
   "execution_count": 7,
   "metadata": {},
   "outputs": [
    {
     "name": "stdout",
     "output_type": "stream",
     "text": [
      "['NW' 'W' 'SW' 'N' 'NE' 'CLM' 'S' 'SE' 'E' 'NNE' 'WNW' 'SSW' 'NNW' 'WSW'\n",
      " 'SSE' 'ESE' 'ENE']\n"
     ]
    }
   ],
   "source": [
    "wind_direction = np.array(dataset['wind_direction'].unique(), str)\n",
    "print(wind_direction)"
   ]
  },
  {
   "cell_type": "code",
   "execution_count": 8,
   "metadata": {},
   "outputs": [],
   "source": [
    "def degToCompass(num):\n",
    "    val=int((num/22.5)+.5)\n",
    "    arr=[\"N\",\"NNE\",\"NE\",\"ENE\",\"E\",\"ESE\", \"SE\", \"SSE\",\"S\",\"SSW\",\"SW\",\"WSW\",\"W\",\"WNW\",\"NW\",\"NNW\"]\n",
    "    # print(arr[(val % 16)])\n",
    "    return arr[(val % 16)]\n",
    "\n",
    "# not sure if it's correct way to do this\n",
    "# found the degToCompass in stackoverflow\n",
    "# tried to make a reverse\n",
    "def compassToDeg(compass):\n",
    "    arr=[\"N\",\"NNE\",\"NE\",\"ENE\",\"E\",\"ESE\", \"SE\", \"SSE\",\"S\",\"SSW\",\"SW\",\"WSW\",\"W\",\"WNW\",\"NW\",\"NNW\"]\n",
    "    index = 0\n",
    "    for i in range(len(arr)):\n",
    "        if(arr[i]==compass):\n",
    "            index=i\n",
    "            break\n",
    "    return (index-0.5)*22.5"
   ]
  },
  {
   "cell_type": "code",
   "execution_count": 9,
   "metadata": {},
   "outputs": [
    {
     "name": "stdout",
     "output_type": "stream",
     "text": [
      "['303.75' '258.75' '213.75' '-11.25' '33.75' '168.75' '123.75' '78.75'\n",
      " '11.25' '281.25' '191.25' '326.25' '236.25' '146.25' '101.25' '56.25']\n"
     ]
    }
   ],
   "source": [
    "dataset['wind_direction'] = dataset['wind_direction'].apply(lambda x: compassToDeg(x))\n",
    "wind_direction = np.array(dataset['wind_direction'].unique(), str)\n",
    "print(wind_direction)\n"
   ]
  },
  {
   "cell_type": "markdown",
   "metadata": {},
   "source": [
    "#### Wind\n",
    "The last column of the data, `wind_direction`—gives the wind direction in units of degrees. Angles do not make good model inputs: 360° and 0° should be close to each other and wrap around smoothly. Direction shouldn't matter if the wind is not blowing.\n",
    "\n",
    "Right now the distribution of wind data looks like this:"
   ]
  },
  {
   "cell_type": "code",
   "execution_count": 10,
   "metadata": {},
   "outputs": [
    {
     "data": {
      "text/plain": [
       "Text(0, 0.5, 'Wind Velocity [m/s]')"
      ]
     },
     "execution_count": 10,
     "metadata": {},
     "output_type": "execute_result"
    },
    {
     "data": {
      "image/png": "[encoded data removed]",
      "text/plain": [
       "<Figure size 432x288 with 2 Axes>"
      ]
     },
     "metadata": {
      "needs_background": "light"
     },
     "output_type": "display_data"
    }
   ],
   "source": [
    "plt.hist2d(dataset['wind_direction'], dataset['wind_speed'], bins=(50, 50), vmax=150)\n",
    "plt.colorbar()\n",
    "plt.xlabel('Wind Direction [deg]')\n",
    "plt.ylabel('Wind Velocity [m/s]')\n"
   ]
  },
  {
   "cell_type": "code",
   "execution_count": 11,
   "metadata": {},
   "outputs": [],
   "source": [
    "wv = dataset['wind_speed']\n",
    "\n",
    "# Convert to radians.\n",
    "wd_rad = dataset['wind_direction']*np.pi / 180\n",
    "\n",
    "# Calculate the wind x and y components.\n",
    "dataset['Wx'] = wv*np.cos(wd_rad)\n",
    "dataset['Wy'] = wv*np.sin(wd_rad)"
   ]
  },
  {
   "cell_type": "code",
   "execution_count": 12,
   "metadata": {},
   "outputs": [
    {
     "data": {
      "text/plain": [
       "(-54.876994411967985,\n",
       " 70.67491704571634,\n",
       " -58.84711682419382,\n",
       " 57.620844132566376)"
      ]
     },
     "execution_count": 12,
     "metadata": {},
     "output_type": "execute_result"
    },
    {
     "data": {
      "image/png": "[encoded data removed]",
      "text/plain": [
       "<Figure size 432x288 with 2 Axes>"
      ]
     },
     "metadata": {
      "needs_background": "light"
     },
     "output_type": "display_data"
    }
   ],
   "source": [
    "plt.hist2d(dataset['Wx'], dataset['Wy'], bins=(50, 50), vmax=400)\n",
    "plt.colorbar()\n",
    "plt.xlabel('Wind X [m/s]')\n",
    "plt.ylabel('Wind Y [m/s]')\n",
    "ax = plt.gca()\n",
    "ax.axis('tight')"
   ]
  },
  {
   "cell_type": "code",
   "execution_count": 13,
   "metadata": {},
   "outputs": [
    {
     "name": "stdout",
     "output_type": "stream",
     "text": [
      "Unnamed: 0\n",
      "{<class 'int'>}\n",
      "station_name\n",
      "{<class 'str'>}\n",
      "year\n",
      "{<class 'int'>}\n",
      "month\n",
      "{<class 'int'>}\n",
      "day\n",
      "{<class 'int'>}\n",
      "rain_fall\n",
      "{<class 'float'>}\n",
      "sunshine\n",
      "{<class 'float'>}\n",
      "humidity\n",
      "{<class 'float'>}\n",
      "temperature\n",
      "{<class 'float'>}\n",
      "wind_speed\n",
      "{<class 'float'>}\n",
      "wind_direction\n",
      "{<class 'float'>}\n",
      "date\n",
      "{<class 'pandas._libs.tslibs.timestamps.Timestamp'>}\n",
      "Wx\n",
      "{<class 'float'>}\n",
      "Wy\n",
      "{<class 'float'>}\n"
     ]
    }
   ],
   "source": [
    "# print(dataset.columns)\n",
    "for x in dataset.columns:\n",
    "    print(x)\n",
    "    types = set([type(y) for y in dataset[x]])\n",
    "    print(types)\n"
   ]
  },
  {
   "cell_type": "code",
   "execution_count": 14,
   "metadata": {},
   "outputs": [],
   "source": [
    "dataset.drop(\"Unnamed: 0\" , 1 , inplace=True)\n",
    "# dataset.drop(\"station_name\" , 1 , inplace=True)\n",
    "dataset.drop(\"year\" , 1 , inplace=True)\n",
    "dataset.drop(\"month\" , 1 , inplace=True)\n",
    "dataset.drop(\"day\" , 1 , inplace=True)\n",
    "# dataset.drop(\"wind_direction\" , 1 , inplace=True)"
   ]
  },
  {
   "cell_type": "code",
   "execution_count": 15,
   "metadata": {},
   "outputs": [
    {
     "data": {
      "text/plain": [
       "array(['dhaka', 'tangail', 'mymensingh', 'faridpur', 'madaripur',\n",
       "       'srimangal', 'sylhet', 'bogra', 'dinajpur', 'ishurdi', 'rajshahi',\n",
       "       'rangpur', 'sydpur', 'chuadanga', 'jessore', 'khulna', 'mongla',\n",
       "       'satkhira', 'barisal', 'bhola', 'khepupara', 'patuakhali',\n",
       "       'chandpur', 'teknaf', 'chittagong', 'comilla', 'coxsbazar', 'feni',\n",
       "       'hatiya', 'kutubdia', 'mcourt', 'rangamati', 'sandwip',\n",
       "       'ambaganctg', 'sitakunda'], dtype='<U10')"
      ]
     },
     "execution_count": 15,
     "metadata": {},
     "output_type": "execute_result"
    }
   ],
   "source": [
    "cities = np.array(dataset['station_name'].unique() , str)\n",
    "cities"
   ]
  },
  {
   "cell_type": "code",
   "execution_count": 16,
   "metadata": {},
   "outputs": [],
   "source": [
    "dataset_city ={}\n",
    "for x in cities:\n",
    "    dataset_city[x] = dataset[(dataset.station_name == x)]"
   ]
  },
  {
   "cell_type": "code",
   "execution_count": 17,
   "metadata": {},
   "outputs": [
    {
     "name": "stdout",
     "output_type": "stream",
     "text": [
      "dhaka (14934, 10) 14934\n"
     ]
    },
    {
     "name": "stderr",
     "output_type": "stream",
     "text": [
      "C:\\ProgramData\\Anaconda3\\lib\\site-packages\\pandas\\core\\frame.py:4102: SettingWithCopyWarning: \n",
      "A value is trying to be set on a copy of a slice from a DataFrame\n",
      "\n",
      "See the caveats in the documentation: http://pandas.pydata.org/pandas-docs/stable/user_guide/indexing.html#returning-a-view-versus-a-copy\n",
      "  errors=errors,\n"
     ]
    },
    {
     "name": "stdout",
     "output_type": "stream",
     "text": [
      "tangail (11807, 10) 11807\n",
      "mymensingh (14629, 10) 14539\n",
      "faridpur (12565, 10) 12565\n",
      "madaripur (12473, 10) 12109\n",
      "srimangal (12292, 10) 12292\n",
      "sylhet (15631, 10) 15631\n",
      "bogra (15357, 10) 15267\n",
      "dinajpur (11199, 10) 11199\n",
      "ishurdi (12626, 10) 12626\n",
      "rajshahi (14569, 10) 14569\n",
      "rangpur (14873, 10) 14873\n",
      "sydpur (7224, 10) 7224\n",
      "chuadanga (8579, 10) 7618\n",
      "jessore (14812, 10) 14812\n",
      "khulna (12991, 10) 12991\n",
      "mongla (6920, 10) 6920\n",
      "satkhira (12991, 10) 12991\n",
      "barisal (15570, 10) 15570\n",
      "bhola (14205, 10) 14205\n",
      "khepupara (11625, 10) 11625\n",
      "patuakhali (12626, 10) 12626\n",
      "chandpur (14508, 10) 14508\n",
      "teknaf (15115, 10) 15115\n",
      "chittagong (13385, 10) 13385\n",
      "comilla (13325, 10) 13325\n",
      "coxsbazar (15631, 10) 15631\n",
      "feni (12626, 10) 12626\n",
      "hatiya (11169, 10) 11169\n",
      "kutubdia (12748, 10) 12748\n",
      "mcourt (12748, 10) 12748\n",
      "rangamati (11986, 10) 11958\n",
      "sandwip (11534, 10) 11534\n",
      "ambaganctg (4371, 10) 4371\n",
      "sitakunda (15206, 10) 15206\n"
     ]
    }
   ],
   "source": [
    "for x in cities:\n",
    "    dates = np.array(dataset_city[x]['date'].unique(), str)\n",
    "    print(x , dataset_city[x].shape , len(dates))\n",
    "    dataset_city[x].drop(\"station_name\" , 1 , inplace=True)\n",
    "    dataset_city[x].to_csv(\"datasets/\"+x+\".csv\")"
   ]
  },
  {
   "cell_type": "code",
   "execution_count": 18,
   "metadata": {},
   "outputs": [],
   "source": [
    "features = [\"rain_fall\" , \"sunshine\" , \"humidity\" , \"temperature\" , \"wind_speed\" , \"wind_direction\" , \"date\"]"
   ]
  },
  {
   "cell_type": "code",
   "execution_count": 19,
   "metadata": {},
   "outputs": [
    {
     "data": {
      "text/html": [
       "<div>\n",
       "<style scoped>\n",
       "    .dataframe tbody tr th:only-of-type {\n",
       "        vertical-align: middle;\n",
       "    }\n",
       "\n",
       "    .dataframe tbody tr th {\n",
       "        vertical-align: top;\n",
       "    }\n",
       "\n",
       "    .dataframe thead th {\n",
       "        text-align: right;\n",
       "    }\n",
       "</style>\n",
       "<table border=\"1\" class=\"dataframe\">\n",
       "  <thead>\n",
       "    <tr style=\"text-align: right;\">\n",
       "      <th></th>\n",
       "      <th>rain_fall</th>\n",
       "      <th>sunshine</th>\n",
       "      <th>humidity</th>\n",
       "      <th>temperature</th>\n",
       "      <th>wind_speed</th>\n",
       "      <th>wind_direction</th>\n",
       "      <th>date</th>\n",
       "      <th>Wx</th>\n",
       "      <th>Wy</th>\n",
       "    </tr>\n",
       "  </thead>\n",
       "  <tbody>\n",
       "    <tr>\n",
       "      <td>0</td>\n",
       "      <td>0.0</td>\n",
       "      <td>10.0</td>\n",
       "      <td>59.0</td>\n",
       "      <td>17.3</td>\n",
       "      <td>3.5</td>\n",
       "      <td>303.75</td>\n",
       "      <td>1977-01-01</td>\n",
       "      <td>1.944496</td>\n",
       "      <td>-2.910144</td>\n",
       "    </tr>\n",
       "    <tr>\n",
       "      <td>1</td>\n",
       "      <td>0.0</td>\n",
       "      <td>10.1</td>\n",
       "      <td>62.0</td>\n",
       "      <td>17.3</td>\n",
       "      <td>4.0</td>\n",
       "      <td>303.75</td>\n",
       "      <td>1977-01-02</td>\n",
       "      <td>2.222281</td>\n",
       "      <td>-3.325878</td>\n",
       "    </tr>\n",
       "    <tr>\n",
       "      <td>2</td>\n",
       "      <td>0.0</td>\n",
       "      <td>9.9</td>\n",
       "      <td>67.0</td>\n",
       "      <td>17.5</td>\n",
       "      <td>3.2</td>\n",
       "      <td>303.75</td>\n",
       "      <td>1977-01-03</td>\n",
       "      <td>1.777825</td>\n",
       "      <td>-2.660703</td>\n",
       "    </tr>\n",
       "    <tr>\n",
       "      <td>3</td>\n",
       "      <td>0.0</td>\n",
       "      <td>10.0</td>\n",
       "      <td>68.0</td>\n",
       "      <td>17.5</td>\n",
       "      <td>2.0</td>\n",
       "      <td>303.75</td>\n",
       "      <td>1977-01-04</td>\n",
       "      <td>1.111140</td>\n",
       "      <td>-1.662939</td>\n",
       "    </tr>\n",
       "    <tr>\n",
       "      <td>4</td>\n",
       "      <td>0.0</td>\n",
       "      <td>9.5</td>\n",
       "      <td>69.0</td>\n",
       "      <td>16.5</td>\n",
       "      <td>2.0</td>\n",
       "      <td>303.75</td>\n",
       "      <td>1977-01-05</td>\n",
       "      <td>1.111140</td>\n",
       "      <td>-1.662939</td>\n",
       "    </tr>\n",
       "  </tbody>\n",
       "</table>\n",
       "</div>"
      ],
      "text/plain": [
       "   rain_fall  sunshine  humidity  temperature  wind_speed  wind_direction  \\\n",
       "0        0.0      10.0      59.0         17.3         3.5          303.75   \n",
       "1        0.0      10.1      62.0         17.3         4.0          303.75   \n",
       "2        0.0       9.9      67.0         17.5         3.2          303.75   \n",
       "3        0.0      10.0      68.0         17.5         2.0          303.75   \n",
       "4        0.0       9.5      69.0         16.5         2.0          303.75   \n",
       "\n",
       "        date        Wx        Wy  \n",
       "0 1977-01-01  1.944496 -2.910144  \n",
       "1 1977-01-02  2.222281 -3.325878  \n",
       "2 1977-01-03  1.777825 -2.660703  \n",
       "3 1977-01-04  1.111140 -1.662939  \n",
       "4 1977-01-05  1.111140 -1.662939  "
      ]
     },
     "execution_count": 19,
     "metadata": {},
     "output_type": "execute_result"
    }
   ],
   "source": [
    "dataset_city['dhaka'].head()"
   ]
  },
  {
   "cell_type": "code",
   "execution_count": 20,
   "metadata": {},
   "outputs": [],
   "source": [
    "def dateTimeToSignal(df):\n",
    "    '''\n",
    "    Converts the DateTime index to timestamp and convert it to signal (sine and cosine) to deal with periodicity\n",
    "    input: \n",
    "        df : Dataset\n",
    "    Output:\n",
    "        df : Dataset with column Day sin , Day cos , Week sin , Week cos ,  Year sin , Year cos ; representing Sin / Cosine signal for timestamp  \n",
    "    '''\n",
    "    timestamp_s = df.index.map(datetime.datetime.timestamp)\n",
    "    day = 24*60*60\n",
    "    week = 7*day\n",
    "    year = (365.2425)*day\n",
    "\n",
    "    # df['Day sin'] = np.sin(timestamp_s * (2 * np.pi / day))\n",
    "    df['Day cos'] = np.cos(timestamp_s * (2 * np.pi / day))\n",
    "\n",
    "    # df['Week sin'] = np.sin(timestamp_s * (2 * np.pi / week))\n",
    "    df['Week cos'] = np.cos(timestamp_s * (2 * np.pi / week))\n",
    "\n",
    "    # df['Year sin'] = np.sin(timestamp_s * (2 * np.pi / year))\n",
    "    df['Year cos'] = np.cos(timestamp_s * (2 * np.pi / year))\n",
    "    return df\n"
   ]
  },
  {
   "cell_type": "code",
   "execution_count": 21,
   "metadata": {},
   "outputs": [],
   "source": [
    "dataset_city = {}\n",
    "for x in cities:\n",
    "    dataset_city[x] = pd.read_csv(\"datasets/\"+x+\".csv\", header=0,infer_datetime_format=True, parse_dates=['date'], index_col=['date'])\n",
    "    dataset_city[x].drop(\"Unnamed: 0\" , 1 , inplace=True)\n",
    "    dataset_city[x].drop(\"wind_speed\" , 1 , inplace=True)\n",
    "    dataset_city[x].drop(\"wind_direction\" , 1 , inplace=True)\n",
    "    dataset_city[x] = dateTimeToSignal(dataset_city[x])\n",
    "    # dataset_city[x].drop(\"day \" , 1 , inplace=True)\n"
   ]
  },
  {
   "cell_type": "code",
   "execution_count": 22,
   "metadata": {
    "tags": []
   },
   "outputs": [
    {
     "name": "stdout",
     "output_type": "stream",
     "text": [
      "rain_fall\n",
      "{<class 'float'>}\n",
      "sunshine\n",
      "{<class 'float'>}\n",
      "humidity\n",
      "{<class 'float'>}\n",
      "temperature\n",
      "{<class 'float'>}\n",
      "Wx\n",
      "{<class 'float'>}\n",
      "Wy\n",
      "{<class 'float'>}\n",
      "Day cos\n",
      "{<class 'float'>}\n",
      "Week cos\n",
      "{<class 'float'>}\n",
      "Year cos\n",
      "{<class 'float'>}\n"
     ]
    }
   ],
   "source": [
    "# print(dataset.columns)\n",
    "for x in dataset_city['madaripur'].columns:\n",
    "    print(x)\n",
    "    types = set([type(y) for y in dataset_city[\"madaripur\"][x]])\n",
    "    print(types)\n"
   ]
  },
  {
   "cell_type": "code",
   "execution_count": 23,
   "metadata": {},
   "outputs": [],
   "source": [
    "def split_data(df):\n",
    "    '''\n",
    "    split the dataset ( train , val , test = (70 , 15 , 15)% )\n",
    "    input:\n",
    "        df : Dataset to split\n",
    "    output:\n",
    "        train_df : train dataset\n",
    "        val_df : validation dataset\n",
    "        test_df : test dataset\n",
    "        num_features : Number of features in dataset\n",
    "        column_indices : column_indices in dataset\n",
    "    '''\n",
    "    column_indices = {name: i for i, name in enumerate(df.columns)}\n",
    "\n",
    "    n = len(df)\n",
    "    train_df = df[0:int(n*0.7)]\n",
    "    val_df = df[int(n*0.7):int(n*0.85)]\n",
    "    test_df = df[int(n*0.85):]\n",
    "\n",
    "    num_features = df.shape[1]\n",
    "    return train_df, val_df, test_df, num_features, column_indices\n"
   ]
  },
  {
   "cell_type": "code",
   "execution_count": 24,
   "metadata": {},
   "outputs": [],
   "source": [
    "def create_data(train, test, val, columns):\n",
    "    '''\n",
    "    Create dataset from main train , test , val with given columns\n",
    "    '''\n",
    "    if(columns == None):\n",
    "        columns = train.columns\n",
    "    new_train = train[columns]\n",
    "    new_test = test[columns]\n",
    "    new_val = val[columns]\n",
    "    return new_train, new_test, new_val\n"
   ]
  },
  {
   "cell_type": "code",
   "execution_count": 25,
   "metadata": {},
   "outputs": [],
   "source": [
    "def normalize_MinMax(train , val , test):\n",
    "    train_max = train.max()\n",
    "    train_min = train.min()\n",
    "    \n",
    "    train = (train - train_min)/(train_max - train_min)\n",
    "    val = (val - train_min)/ (train_max - train_min)\n",
    "    test = (test - train_min) / (train_max - train_min)\n",
    "    return train , val , test , train_max , train_min"
   ]
  },
  {
   "cell_type": "code",
   "execution_count": 26,
   "metadata": {},
   "outputs": [],
   "source": [
    "def normalize_std(train , val , test):\n",
    "    train_mean = train.mean()\n",
    "    train_std = train.std()\n",
    "    train = (train - train_mean) / train_std\n",
    "    val = (val - train_mean) / train_std\n",
    "    test = (test - train_mean) / train_std\n",
    "    return train , val ,test , train_mean , train_std"
   ]
  },
  {
   "cell_type": "code",
   "execution_count": 27,
   "metadata": {},
   "outputs": [],
   "source": [
    "class WindowGenerator():\n",
    "    '''\n",
    "    WindowGenerator Class\n",
    "    1. Split windows of features into a (features, labels) pairs.\n",
    "    2. Plot the content of the resulting windows.\n",
    "    3. Efficiently generate batches of these windows from the training, evaluation, and test data, using tf.data.Datasets S.\n",
    "    '''\n",
    "    def __init__(self, input_width, label_width, shift,\n",
    "               train_df, val_df, test_df,\n",
    "               label_columns=None , shuffle=False , batch_size = 64):\n",
    "        '''\n",
    "        The __init__ method includes all the necessary logic for the input and label indices.\n",
    "        Input: \n",
    "            input_width : input width / window size \n",
    "            label_width : output width\n",
    "            shift : size of window shifting forward\n",
    "            train_df : train dataset\n",
    "            val_df : validation dataset\n",
    "            test_df : test dataset\n",
    "            label_columns ( Default = None) : Label Columns\n",
    "            shuffle ( Default = False) : weather to shuffle data \n",
    "            batch_size (Default = 64) : Batch Size\n",
    "        Output: None\n",
    "        Example :\n",
    "            w2 = WindowGenerator(input_width=6, label_width=1, shift=1,\n",
    "                     label_columns=['count'])\n",
    "            w2\n",
    "\n",
    "        '''\n",
    "        # Store the raw data.\n",
    "        self.train_df = train_df\n",
    "        self.val_df = val_df\n",
    "        self.test_df = test_df\n",
    "        self.shuffle = shuffle\n",
    "        self.batch_size = batch_size\n",
    "\n",
    "        # Work out the label column indices.\n",
    "        self.label_columns = label_columns\n",
    "        if label_columns is not None:\n",
    "            self.label_columns_indices = {name: i for i, name in\n",
    "                                        enumerate(label_columns)}\n",
    "            \n",
    "        self.column_indices = {name: i for i, name in\n",
    "                            enumerate(train_df.columns)}\n",
    "\n",
    "\n",
    "        # Work out the window parameters.\n",
    "        self.input_width = input_width\n",
    "        self.label_width = label_width\n",
    "        self.shift = shift\n",
    "\n",
    "        self.total_window_size = input_width + shift\n",
    "\n",
    "        self.input_slice = slice(0, input_width) #(start , stop)\n",
    "        self.input_indices = np.arange(self.total_window_size)[self.input_slice]\n",
    "\n",
    "        self.label_start = self.total_window_size - self.label_width\n",
    "        self.labels_slice = slice(self.label_start, None)\n",
    "        self.label_indices = np.arange(self.total_window_size)[self.labels_slice]\n",
    "\n",
    "    def __repr__(self):\n",
    "        return '\\n'.join([\n",
    "            f'Total window size: {self.total_window_size}',\n",
    "            f'Input indices: {self.input_indices}',\n",
    "            f'Label indices: {self.label_indices}',\n",
    "            f'Label column name(s): {self.label_columns}'])\n",
    "        \n",
    "    def split_window(self, features):\n",
    "        '''\n",
    "        Given a list consecutive inputs, the split_window method will convert them to a window of inputs and a window of labels.\n",
    "        \n",
    "        Input: \n",
    "            features : Stack of array of datas , used for splitting data to inputs and labels\n",
    "        Output:\n",
    "            inputs : nd Array splitted as input_width\n",
    "            labesl : nd Array splitted as label_width\n",
    "        Example :\n",
    "        # Stack three slices, the length of the total window:\n",
    "            example_window = tf.stack([np.array(train_df[:w2.total_window_size]),\n",
    "                           np.array(train_df[100:100+w2.total_window_size]),\n",
    "                           np.array(train_df[200:200+w2.total_window_size])])\n",
    "\n",
    "\n",
    "            example_inputs, example_labels = w2.split_window(example_window)\n",
    "\n",
    "            print('All shapes are: (batch, time, features)')\n",
    "            print(f'Window shape: {example_window.shape}')\n",
    "            print(f'Inputs shape: {example_inputs.shape}')\n",
    "            print(f'labels shape: {example_labels.shape}')\n",
    "        '''\n",
    "        inputs = features[:, self.input_slice, :]\n",
    "        labels = features[:, self.labels_slice, :]\n",
    "        #taking only the labels that are presentin the label_columns\n",
    "        if self.label_columns is not None:\n",
    "            labels = tf.stack([labels[:, :, self.column_indices[name]] for name in self.label_columns],axis=-1)\n",
    "\n",
    "        # Slicing doesn't preserve static shape information, so set the shapes\n",
    "        # manually. This way the `tf.data.Datasets` are easier to inspect.\n",
    "        inputs.set_shape([None, self.input_width, None])\n",
    "        labels.set_shape([None, self.label_width, None])\n",
    "\n",
    "        return inputs, labels\n",
    "\n",
    "    def plot(self, model=None, plot_col='temperature', max_subplots=3):\n",
    "        '''\n",
    "            plot method that allows a simple visualization of the split window,\n",
    "            Input:\n",
    "                model (Default=None) : tensorflow model to evaluate \n",
    "                plot_col ( Default = 'count') : Name of column to evaluate\n",
    "                max_subplots ( Default = 3) : Maximum Number of subplotting\n",
    "            Output:\n",
    "                None\n",
    "            Example:\n",
    "                w2.plot()\n",
    "                w2.plot(plot_col=0) # label wont be shown as w2 config has only column , count \n",
    "\n",
    "        '''\n",
    "        inputs, labels = self.example\n",
    "        plt.figure(figsize=(15, 12))\n",
    "        plot_col_index = self.column_indices[plot_col]\n",
    "        max_n = min(max_subplots, len(inputs))\n",
    "        for n in range(max_n):\n",
    "            plt.subplot(max_n, 1, n+1)\n",
    "            plt.ylabel(f'{plot_col} [normed]')\n",
    "            plt.plot(self.input_indices, inputs[n, :, plot_col_index],label='Inputs', marker='.', zorder=-10)\n",
    "\n",
    "            if self.label_columns:\n",
    "                label_col_index = self.label_columns_indices.get(plot_col, None)\n",
    "            else:\n",
    "                label_col_index = plot_col_index\n",
    "\n",
    "            if label_col_index is None:\n",
    "                continue\n",
    "\n",
    "            plt.scatter(self.label_indices, labels[n, :, label_col_index],edgecolors='k', label='Labels', c='#2ca02c', s=64)\n",
    "            if model is not None:\n",
    "                predictions = model(inputs)\n",
    "                plt.scatter(self.label_indices, predictions[n, :, label_col_index],\n",
    "                        marker='X', edgecolors='k', label='Predictions',c='#ff7f0e', s=64)\n",
    "            if n == 0:\n",
    "                plt.legend()\n",
    "        plt.xlabel('Time [h]')\n",
    "\n",
    "    def make_dataset(self, data):\n",
    "        '''\n",
    "        make_dataset method will take a time series DataFrame and convert it to a\n",
    "            tf.data.Dataset of (input_window, label_window) pairs using the preprocessing.timeseries_dataset_from_array function.\n",
    "        Input:\n",
    "            data :  Input data to transform into (input_window , label_window)\n",
    "        Output:\n",
    "            ds : transformed dataset\n",
    "        '''\n",
    "        data = np.array(data, dtype=np.float32)\n",
    "        ds = tf.keras.preprocessing.timeseries_dataset_from_array(\n",
    "            data=data,\n",
    "            targets=None,\n",
    "            sequence_length=self.total_window_size,\n",
    "            sequence_stride=1,\n",
    "            shuffle=self.shuffle,\n",
    "            batch_size=self.batch_size,)\n",
    "        ds = ds.map(self.split_window)\n",
    "        return ds\n",
    "    \n",
    "    def create_dataset2(self , map_df , reshape=True):\n",
    "      x = []\n",
    "      y = []\n",
    "      for res in iter(map_df):\n",
    "        inputs, labels = res\n",
    "        if(len(inputs)==64):\n",
    "          x.append(inputs)\n",
    "          y.append(labels)\n",
    "      \n",
    "      x = np.array(x)\n",
    "      y = np.array(y)\n",
    "      if(reshape):\n",
    "        x = x.reshape(-1, x.shape[-2] , x.shape[-1])\n",
    "        y = y.reshape(-1 , y.shape[-2] , y.shape[-1])\n",
    "      return x , y\n",
    "    \n",
    "    '''\n",
    "    properties for accessing  training, validation and test data as tf.data.Datasets using the above make_dataset method.\n",
    "    Also a standard example batch for easy access and plotting\n",
    "    '''\n",
    "\n",
    "    @property\n",
    "    def train(self):\n",
    "        return self.make_dataset(self.train_df)\n",
    "\n",
    "    @property\n",
    "    def val(self):\n",
    "        return self.make_dataset(self.val_df)\n",
    "\n",
    "    @property\n",
    "    def test(self):\n",
    "        return self.make_dataset(self.test_df)\n",
    "    \n",
    "    @property\n",
    "    def example(self):\n",
    "        \"\"\"Get and cache an example batch of `inputs, labels` for plotting.\"\"\"\n",
    "        result = getattr(self, '_example', None)\n",
    "        if result is None:\n",
    "            # No example batch was found, so get one from the `.train` dataset\n",
    "            result = next(iter(self.test))\n",
    "            # And cache it for next time\n",
    "            self._example = result\n",
    "        return result"
   ]
  },
  {
   "cell_type": "code",
   "execution_count": 28,
   "metadata": {},
   "outputs": [
    {
     "data": {
      "text/plain": [
       "Index(['rain_fall', 'sunshine', 'humidity', 'temperature', 'Wx', 'Wy',\n",
       "       'Day cos', 'Week cos', 'Year cos'],\n",
       "      dtype='object')"
      ]
     },
     "execution_count": 28,
     "metadata": {},
     "output_type": "execute_result"
    }
   ],
   "source": [
    "dataset_city['dhaka'].columns"
   ]
  },
  {
   "cell_type": "code",
   "execution_count": 29,
   "metadata": {},
   "outputs": [
    {
     "name": "stdout",
     "output_type": "stream",
     "text": [
      "['rain_fall', 'sunshine', 'humidity', 'temperature', 'wind_speed', 'wind_direction', 'date'] 9\n"
     ]
    }
   ],
   "source": [
    "y_col = ['rain_fall', 'sunshine', 'humidity', 'temperature', 'Wx', 'Wy']\n",
    "print(features , len(dataset_city['dhaka'].columns))\n"
   ]
  },
  {
   "cell_type": "code",
   "execution_count": 30,
   "metadata": {},
   "outputs": [],
   "source": [
    "def save_history(history , path):\n",
    "    # convert the history.history dict to a pandas DataFrame:     \n",
    "    hist_df = pd.DataFrame(history.history) \n",
    "    # or save to csv: \n",
    "    hist_csv_file = path\n",
    "    with open(hist_csv_file, mode='w') as f:\n",
    "        hist_df.to_json(f)\n",
    "\n",
    "def get_history(path):\n",
    "    with open(path) as json_file:\n",
    "        data = json.load(json_file)\n",
    "        return data\n",
    "\n",
    "def save_model_weights(model , path):\n",
    "  model.save_weights(path)\n"
   ]
  },
  {
   "cell_type": "code",
   "execution_count": 31,
   "metadata": {},
   "outputs": [],
   "source": [
    "def sMAPE(y, y_pred):\n",
    "    epsilon = 0.1\n",
    "    summ = backend.maximum(backend.abs(\n",
    "        y) + backend.abs(y_pred) + epsilon, 0.5 + epsilon)\n",
    "    smape = backend.abs(y_pred - y) / summ * 2.0\n",
    "    return smape\n"
   ]
  },
  {
   "cell_type": "code",
   "execution_count": 32,
   "metadata": {},
   "outputs": [],
   "source": [
    "def R_squared(y, y_pred):\n",
    "  residual = tf.reduce_sum(tf.square(tf.subtract(y, y_pred)))\n",
    "  total = tf.reduce_sum(tf.square(tf.subtract(y, tf.reduce_mean(y))))\n",
    "  r2 = tf.subtract(1.0, tf.divide(residual, total))\n",
    "  return r2"
   ]
  },
  {
   "cell_type": "code",
   "execution_count": 33,
   "metadata": {},
   "outputs": [],
   "source": [
    "metrics_name = ['mae' , 'msle' , 'mse' , 'smape' , 'r^2']"
   ]
  },
  {
   "cell_type": "code",
   "execution_count": 34,
   "metadata": {},
   "outputs": [],
   "source": [
    "def compileModel(model):\n",
    "    model.compile(loss=tf.losses.MeanAbsoluteError(), optimizer=tf.optimizers.Adam(),\n",
    "                  metrics=[tf.metrics.MeanSquaredLogarithmicError(), tf.metrics.MeanSquaredError(), sMAPE, R_squared])\n",
    "    return model\n"
   ]
  },
  {
   "cell_type": "code",
   "execution_count": 35,
   "metadata": {},
   "outputs": [],
   "source": [
    "MAX_EPOCHS = 20\n",
    "from keras.callbacks import ModelCheckpoint\n",
    "def compile_and_fit(model, modelPath , historyPath , window=None, name=None , patience=10):\n",
    "    '''\n",
    "    Compile and fit a model\n",
    "    '''\n",
    "    modelPathPar = MODEL_PATH+'/'+modelPath+'/'\n",
    "    historyPathPar = HISTORY_PATH+'/'+historyPath+'/'\n",
    "    if (name!=None):\n",
    "        # model_path = ROOTPATH+'/model_all_mae_swish/'+name\n",
    "        # history_path = ROOTPATH+'/history_all_mae_swish/'+name+\".json\"\n",
    "        model_path = modelPathPar+name\n",
    "        history_path = historyPathPar+name+\".json\"\n",
    "        \n",
    "        if not path.exists(modelPathPar):\n",
    "            os.makedirs(modelPathPar)\n",
    "        if not path.exists(historyPathPar):\n",
    "            os.makedirs(historyPathPar)\n",
    "\n",
    "    if (name!=None and path.exists(model_path)):\n",
    "      print(\"Loaded Pre Trained Model\")\n",
    "      modelOld = tf.keras.models.load_model(model_path, custom_objects={\n",
    "                                            'sMAPE': sMAPE, \"R_squared\": R_squared})\n",
    "      model.set_weights(modelOld.get_weights())\n",
    "      history = get_history(history_path)\n",
    "      return model , history\n",
    "      \n",
    "    \n",
    "    early_stopping = tf.keras.callbacks.EarlyStopping(monitor='val_loss',patience=patience)\n",
    "    checkpoint = ModelCheckpoint(filepath=model_path, monitor='val_loss',verbose=1, save_best_only=True,mode='min',save_weights_only=False)\n",
    "    history = model.fit(window.train, epochs=MAX_EPOCHS,validation_data=window.val,callbacks=[early_stopping,checkpoint])\n",
    "    if(name!=None):\n",
    "      model.save(model_path)\n",
    "      save_history(history , history_path)\n",
    "    return model , history.history\n"
   ]
  },
  {
   "cell_type": "code",
   "execution_count": 36,
   "metadata": {},
   "outputs": [],
   "source": [
    "def generate_window(df_now, ret_test = 0):\n",
    "    train_df , val_df , test_df , num_features_df , column_indices_df = split_data(df_now)\n",
    "    train_df , test_df , val_df = create_data(train_df , test_df , val_df , None)\n",
    "    train_df , val_df , test_df , train_mean , train_std = normalize_std(train_df , val_df , test_df)\n",
    "\n",
    "    wide_window_all = WindowGenerator(train_df=train_df, test_df=test_df , val_df=val_df, \n",
    "        input_width=14, label_width=14, shift=1,\n",
    "        label_columns=y_col)\n",
    "    print(train_std , train_mean)\n",
    "    print(train_df.head())\n",
    "    if (ret_test == 1):\n",
    "      return wide_window_all, test_df, train_mean, train_std\n",
    "    else:  \n",
    "      return wide_window_all, train_mean, train_std"
   ]
  },
  {
   "cell_type": "code",
   "execution_count": 38,
   "metadata": {
    "tags": []
   },
   "outputs": [
    {
     "name": "stdout",
     "output_type": "stream",
     "text": [
      "Model: \"model_1\"\n",
      "_________________________________________________________________\n",
      " Layer (type)                Output Shape              Param #   \n",
      "=================================================================\n",
      " input_BiLSTM (InputLayer)   [(None, 14, 9)]           0         \n",
      "                                                                 \n",
      " bilstm1 (Bidirectional)     (None, 14, 64)            10752     \n",
      "                                                                 \n",
      " bilstm2 (Bidirectional)     (None, 14, 64)            24832     \n",
      "                                                                 \n",
      " TimeDisDenseLSTM (TimeDistr  (None, 14, 16)           1040      \n",
      " ibuted)                                                         \n",
      "                                                                 \n",
      " dense_3 (Dense)             (None, 14, 6)             102       \n",
      "                                                                 \n",
      "=================================================================\n",
      "Total params: 36,726\n",
      "Trainable params: 36,726\n",
      "Non-trainable params: 0\n",
      "_________________________________________________________________\n"
     ]
    }
   ],
   "source": [
    "input_bi_lstm = keras.Input(shape=(14,9), name=\"input_BiLSTM\")\n",
    "x_bd = (keras.layers.Bidirectional(tf.keras.layers.LSTM(32, activation = tf.keras.activations.swish ,return_sequences=True) , name=\"bilstm1\"))(input_bi_lstm)\n",
    "x_bd = (keras.layers.Bidirectional(tf.keras.layers.LSTM(32, activation = tf.keras.activations.swish ,return_sequences=True) , name=\"bilstm2\"))(x_bd)\n",
    "x_bd = (TimeDistributed(keras.layers.Dense(units=16, activation = tf.keras.activations.swish), name=\"TimeDisDenseLSTM\"))(x_bd)\n",
    "output_bi_lstm = (keras.layers.Dense(units=len(y_col)))(x_bd)\n",
    " \n",
    "bi_lstm_model_all_feature = keras.Model(\n",
    "    inputs=[input_bi_lstm],\n",
    "    outputs=[output_bi_lstm],\n",
    ")\n",
    "bi_lstm_model_all_feature.summary()"
   ]
  },
  {
   "cell_type": "code",
   "execution_count": null,
   "metadata": {
    "scrolled": false
   },
   "outputs": [
    {
     "name": "stdout",
     "output_type": "stream",
     "text": [
      "rain_fall      1.905815e+01\n",
      "sunshine       3.257121e+00\n",
      "humidity       6.969703e+00\n",
      "temperature    3.861517e+00\n",
      "Wx             3.211122e+00\n",
      "Wy             2.137319e+00\n",
      "Day cos        3.318902e-12\n",
      "Week cos       7.071418e-01\n",
      "Year cos       7.073770e-01\n",
      "dtype: float64 rain_fall      7.072415e+00\n",
      "sunshine       5.679730e+00\n",
      "humidity       8.375277e+01\n",
      "temperature    2.579931e+01\n",
      "Wx            -1.000194e+00\n",
      "Wy             1.524591e-01\n",
      "Day cos       -3.375401e-12\n",
      "Week cos      -2.184843e-05\n",
      "Year cos       8.016526e-03\n",
      "dtype: float64\n",
      "            rain_fall  sunshine  humidity  temperature        Wx        Wy  \\\n",
      "date                                                                         \n",
      "1985-01-01  -0.371096  0.082978 -0.108006    -1.579511  1.075062 -0.299527   \n",
      "1985-01-02  -0.213684  0.482104  1.039819    -1.967960  0.129214 -1.447989   \n",
      "1985-01-03  -0.371096  0.604912  0.035472    -1.553615  1.088281 -0.851146   \n",
      "1985-01-04  -0.371096  0.681666  0.609384    -1.605408  1.838647 -0.527722   \n",
      "1985-01-05  -0.371096  0.620263 -0.538441    -1.527718  1.136149 -0.317783   \n",
      "\n",
      "             Day cos  Week cos  Year cos  \n",
      "date                                      \n",
      "1985-01-01 -0.578173 -0.613543  1.402338  \n",
      "1985-01-02  0.716996  0.613605  1.402082  \n",
      "1985-01-03 -0.180114  1.378719  1.401407  \n",
      "1985-01-04  1.115055  1.105653  1.400315  \n",
      "1985-01-05  0.217945  0.000031  1.398804  \n",
      "patuakhali\n",
      "Epoch 1/20\n",
      "137/138 [============================>.] - ETA: 0s - loss: 0.0546 - mean_squared_logarithmic_error: 0.0045 - mean_squared_error: 0.0356 - sMAPE: 0.0833 - R_squared: 0.9629\n",
      "Epoch 1: val_loss improved from inf to 0.04365, saving model to C:\\Users\\Administrator\\Desktop\\my research(Shakib)\\BD_Weather/models/model_lstm_patuakhali\\Bi_LSTM_patuakhali\n",
      "WARNING: AutoGraph could not transform <function trace_model_call.<locals>._wrapped_model at 0x0000020935B2FB88> and will run it as-is.\n",
      "Please report this to the TensorFlow team. When filing the bug, set the verbosity to 10 (on Linux, `export AUTOGRAPH_VERBOSITY=10`) and attach the full output.\n",
      "Cause: module 'gast' has no attribute 'Constant'\n",
      "To silence this warning, decorate the function with @tf.autograph.experimental.do_not_convert\n"
     ]
    }
   ],
   "source": [
    "# Load Attn_LSTM MODEL\n",
    "val_performance_bi_lstm = {}\n",
    "performance_bi_lstm = {}\n",
    "histories = {}\n",
    "attn_lstm_model_all_feature = compileModel(bi_lstm_model_all_feature)\n",
    "for x in cities:\n",
    "    wide_window_all , train_max , train_min = generate_window(dataset_city[x])\n",
    "    x = str(x)\n",
    "    print(x)\n",
    "    \n",
    "    # if(key<5):\n",
    "    bi_lstm_model_all_feature, history = compile_and_fit(\n",
    "        bi_lstm_model_all_feature, \"model_lstm_\"+x, \"history_lstm\", name='Bi_LSTM_'+x, window=wide_window_all)\n",
    "    histories[\"lstm_all\"+x] = history\n",
    "    # print(attn_lstm_model_all_feature.summary())\n",
    "    # print(attn_lstm_model_all_feature.layers)\n",
    "    \n",
    "    val_performance_bi_lstm[x] = attn_lstm_model_all_feature.evaluate(wide_window_all.val)\n",
    "    performance_bi_lstm[x] = attn_lstm_model_all_feature.evaluate(wide_window_all.test)\n",
    "\n",
    "    IPython.display.clear_output()\n"
   ]
  },
  {
   "cell_type": "code",
   "execution_count": null,
   "metadata": {},
   "outputs": [],
   "source": [
    "#wide_window_all = generate_window(dataset_city['dhaka'])\n",
    "for x in y_col:\n",
    "    wide_window_all.plot(bi_lstm_model_all_feature ,x ,max_subplots=5)"
   ]
  },
  {
   "cell_type": "code",
   "execution_count": null,
   "metadata": {},
   "outputs": [],
   "source": [
    "\n",
    "def print_perf_val_perf(perf , val_perf):\n",
    "    print(f'{\"model\":50s}: Test   | Val')\n",
    "    for i in range(len(metrics_name)):\n",
    "        print(\"==================\",metrics_name[i],\"==================\")\n",
    "        for key in val_perf.keys():\n",
    "            print(f'{str(key):50s}: {perf[key][i]:0.4f} | {val_perf[key][i]:0.4f}')\n"
   ]
  },
  {
   "cell_type": "code",
   "execution_count": null,
   "metadata": {},
   "outputs": [],
   "source": [
    "from datetime import datetime\n",
    "now = datetime.now()\n",
    "dt_string = now.strftime(\"%d_%m_%Y_%H_%M_%S\")\n",
    "f=open(ROOTPATH+\"\\\\result\\\\\"+dt_string+\".txt\",'w')\n",
    "import sys\n",
    "orig_stdout = sys.stdout\n",
    "sys.stdout = f\n",
    "print_perf_val_perf(performance_bi_lstm , val_performance_bi_lstm)\n",
    "sys.stdout = orig_stdout\n",
    "f.close()"
   ]
  },
  {
   "cell_type": "code",
   "execution_count": null,
   "metadata": {},
   "outputs": [],
   "source": [
    "def draw(xAxis,yAxis,xname,yname,city):\n",
    "    from matplotlib import pyplot as plt\n",
    "    plt.grid(True)\n",
    "    ## LINE GRAPH ##\n",
    "    plt.title(city+\" city\")\n",
    "    plt.plot(xAxis,yAxis, color='maroon', marker='o')\n",
    "    plt.xlabel(xname)\n",
    "    plt.ylabel(yname)\n",
    "\n",
    "    ## BAR GRAPH ##\n",
    "    #fig = plt.figure()\n",
    "    #plt.bar(xAxis,yAxis, color='maroon')\n",
    "    #plt.xlabel(xname)\n",
    "    #plt.ylabel(yname)\n",
    "    #C:\\Users\\Inception\\Desktop\\research\\bd_weather_all\\bd_weather_updated\\BD_Weather\\loss pic\n",
    "    plt.savefig(ROOTPATH+\"\\loss_pic\\\\\"+city+\"_\"+ yname+\".png\")\n",
    "    plt.show()\n",
    "import json\n",
    "for city in cities:\n",
    "    path=ROOTPATH+\"\\histories\\history_lstm\\Bi_LSTM_\"+city+\".json\"\n",
    "    dictionary = json.load(open(path, 'r'))\n",
    "    print(city,\"*\"*30)\n",
    "    for k,l in dictionary.items():\n",
    "        xAxis = [key for key, value in dictionary[k].items()]\n",
    "        yAxis = [value for key, value in dictionary[k].items()]\n",
    "        draw(xAxis,yAxis,\"epochs\",k,city)"
   ]
  }
 ],
 "metadata": {
  "kernelspec": {
   "display_name": "Python 3",
   "language": "python",
   "name": "python3"
  },
  "language_info": {
   "codemirror_mode": {
    "name": "ipython",
    "version": 3
   },
   "file_extension": ".py",
   "mimetype": "text/x-python",
   "name": "python",
   "nbconvert_exporter": "python",
   "pygments_lexer": "ipython3",
   "version": "3.7.4"
  }
 },
 "nbformat": 4,
 "nbformat_minor": 4
}
